{
  "nbformat": 4,
  "nbformat_minor": 0,
  "metadata": {
    "colab": {
      "name": "Workflow_1(b).ipynb",
      "provenance": [],
      "collapsed_sections": []
    },
    "kernelspec": {
      "name": "python3",
      "display_name": "Python 3"
    },
    "language_info": {
      "name": "python"
    }
  },
  "cells": [
    {
      "cell_type": "markdown",
      "metadata": {
        "id": "ZytVHUnjfPua"
      },
      "source": [
        "# **Installing Conda**\n",
        "\n"
      ]
    },
    {
      "cell_type": "code",
      "metadata": {
        "colab": {
          "base_uri": "https://localhost:8080/"
        },
        "id": "zYuG2GYmfQA4",
        "outputId": "9a0ef41e-1387-4c0f-f556-1cb92958bab5"
      },
      "source": [
        "!pip install -q condacolab\n",
        "import condacolab \n",
        "condacolab.install_anaconda()"
      ],
      "execution_count": null,
      "outputs": [
        {
          "output_type": "stream",
          "text": [
            "⏬ Downloading https://repo.anaconda.com/archive/Anaconda3-2020.02-Linux-x86_64.sh...\n",
            "📦 Installing...\n",
            "📌 Adjusting configuration...\n",
            "🩹 Patching environment...\n",
            "⏲ Done in 0:02:45\n",
            "🔁 Restarting kernel...\n"
          ],
          "name": "stdout"
        }
      ]
    },
    {
      "cell_type": "markdown",
      "metadata": {
        "id": "7HFmAynmsNqo"
      },
      "source": [
        "# Checking if anaconda is installed fine\n"
      ]
    },
    {
      "cell_type": "code",
      "metadata": {
        "colab": {
          "base_uri": "https://localhost:8080/"
        },
        "id": "lNwQr2NXsUXy",
        "outputId": "ca88248d-c08d-4659-ba9e-58cd8e30a8a9"
      },
      "source": [
        "import condacolab\n",
        "condacolab.check()\n",
        "!conda --version"
      ],
      "execution_count": null,
      "outputs": [
        {
          "output_type": "stream",
          "text": [
            "✨🍰✨ Everything looks OK!\n",
            "conda 4.8.2\n"
          ],
          "name": "stdout"
        }
      ]
    },
    {
      "cell_type": "markdown",
      "metadata": {
        "id": "FmjHrueEtYH0"
      },
      "source": [
        "#**Installing DeepPurpose**"
      ]
    },
    {
      "cell_type": "code",
      "metadata": {
        "colab": {
          "base_uri": "https://localhost:8080/"
        },
        "id": "h0t40nTjtYYz",
        "outputId": "e1eacb5b-ca10-4839-bbd5-2b25db96490f"
      },
      "source": [
        "%%bash\n",
        "git clone https://github.com/kexinhuang12345/DeepPurpose.git ## Download code repository\n",
        "cd DeepPurpose ## Change directory to DeepPurpose\n",
        "conda env create -f environment.yml"
      ],
      "execution_count": null,
      "outputs": [
        {
          "output_type": "stream",
          "text": [
            "Collecting package metadata (repodata.json): ...working... done\n",
            "Solving environment: ...working... done\n",
            "Preparing transaction: ...working... done\n",
            "Verifying transaction: ...working... done\n",
            "Executing transaction: ...working... b'By downloading and using the CUDA Toolkit conda packages, you accept the terms and conditions of the CUDA End User License Agreement (EULA): https://docs.nvidia.com/cuda/eula/index.html\\n'\n",
            "done\n",
            "Ran pip subprocess with arguments:\n",
            "['/usr/local/envs/DeepPurpose/bin/python', '-m', 'pip', 'install', '-U', '-r', '/content/DeepPurpose/condaenv.oxa9v81m.requirements.txt']\n",
            "Pip subprocess output:\n",
            "Collecting alabaster==0.7.12\n",
            "  Downloading alabaster-0.7.12-py2.py3-none-any.whl (14 kB)\n",
            "Collecting autograd==1.3\n",
            "  Downloading autograd-1.3.tar.gz (38 kB)\n",
            "Collecting autograd-gamma==0.4.2\n",
            "  Downloading autograd_gamma-0.4.2-py2.py3-none-any.whl (3.8 kB)\n",
            "Collecting ax-platform==0.1.11\n",
            "  Downloading ax_platform-0.1.11-py3-none-any.whl (522 kB)\n",
            "Collecting babel==2.8.0\n",
            "  Downloading Babel-2.8.0-py2.py3-none-any.whl (8.6 MB)\n",
            "Requirement already up-to-date: chardet==3.0.4 in /usr/local/envs/DeepPurpose/lib/python3.7/site-packages (from -r /content/DeepPurpose/condaenv.oxa9v81m.requirements.txt (line 6)) (3.0.4)\n",
            "Collecting docutils==0.16\n",
            "  Downloading docutils-0.16-py2.py3-none-any.whl (548 kB)\n",
            "Collecting future==0.18.2\n",
            "  Downloading future-0.18.2.tar.gz (829 kB)\n",
            "Requirement already up-to-date: idna==2.9 in /usr/local/envs/DeepPurpose/lib/python3.7/site-packages (from -r /content/DeepPurpose/condaenv.oxa9v81m.requirements.txt (line 9)) (2.9)\n",
            "Collecting imagesize==1.2.0\n",
            "  Downloading imagesize-1.2.0-py2.py3-none-any.whl (4.8 kB)\n",
            "Collecting lifelines==0.24.3\n",
            "  Downloading lifelines-0.24.3-py2.py3-none-any.whl (417 kB)\n",
            "Collecting packaging==20.3\n",
            "  Downloading packaging-20.3-py2.py3-none-any.whl (37 kB)\n",
            "Collecting prettytable==0.7.2\n",
            "  Downloading prettytable-0.7.2.tar.bz2 (21 kB)\n",
            "Collecting requests==2.23.0\n",
            "  Downloading requests-2.23.0-py2.py3-none-any.whl (58 kB)\n",
            "Collecting snowballstemmer==2.0.0\n",
            "  Downloading snowballstemmer-2.0.0-py2.py3-none-any.whl (97 kB)\n",
            "Collecting subword-nmt==0.3.7\n",
            "  Downloading subword_nmt-0.3.7-py2.py3-none-any.whl (26 kB)\n",
            "Collecting urllib3==1.25.8\n",
            "  Downloading urllib3-1.25.8-py2.py3-none-any.whl (125 kB)\n",
            "Collecting wget==3.2\n",
            "  Downloading wget-3.2.zip (10 kB)\n",
            "Requirement already satisfied, skipping upgrade: numpy>=1.12 in /usr/local/envs/DeepPurpose/lib/python3.7/site-packages (from autograd==1.3->-r /content/DeepPurpose/condaenv.oxa9v81m.requirements.txt (line 2)) (1.18.1)\n",
            "Requirement already satisfied, skipping upgrade: scipy>=1.2.0 in /usr/local/envs/DeepPurpose/lib/python3.7/site-packages (from autograd-gamma==0.4.2->-r /content/DeepPurpose/condaenv.oxa9v81m.requirements.txt (line 3)) (1.4.1)\n",
            "Collecting plotly\n",
            "  Downloading plotly-5.2.1-py2.py3-none-any.whl (21.8 MB)\n",
            "Requirement already satisfied, skipping upgrade: botorch>=0.2.2 in /usr/local/envs/DeepPurpose/lib/python3.7/site-packages (from ax-platform==0.1.11->-r /content/DeepPurpose/condaenv.oxa9v81m.requirements.txt (line 4)) (0.2.2)\n",
            "Requirement already satisfied, skipping upgrade: pandas in /usr/local/envs/DeepPurpose/lib/python3.7/site-packages (from ax-platform==0.1.11->-r /content/DeepPurpose/condaenv.oxa9v81m.requirements.txt (line 4)) (1.0.3)\n",
            "Requirement already satisfied, skipping upgrade: jinja2 in /usr/local/envs/DeepPurpose/lib/python3.7/site-packages (from ax-platform==0.1.11->-r /content/DeepPurpose/condaenv.oxa9v81m.requirements.txt (line 4)) (2.11.1)\n",
            "Requirement already satisfied, skipping upgrade: scikit-learn in /usr/local/envs/DeepPurpose/lib/python3.7/site-packages (from ax-platform==0.1.11->-r /content/DeepPurpose/condaenv.oxa9v81m.requirements.txt (line 4)) (0.22.1)\n",
            "Requirement already satisfied, skipping upgrade: pytz>=2015.7 in /usr/local/envs/DeepPurpose/lib/python3.7/site-packages (from babel==2.8.0->-r /content/DeepPurpose/condaenv.oxa9v81m.requirements.txt (line 5)) (2019.3)\n",
            "Requirement already satisfied, skipping upgrade: matplotlib>=3.0 in /usr/local/envs/DeepPurpose/lib/python3.7/site-packages (from lifelines==0.24.3->-r /content/DeepPurpose/condaenv.oxa9v81m.requirements.txt (line 11)) (3.1.3)\n",
            "Requirement already satisfied, skipping upgrade: six in /usr/local/envs/DeepPurpose/lib/python3.7/site-packages (from packaging==20.3->-r /content/DeepPurpose/condaenv.oxa9v81m.requirements.txt (line 12)) (1.14.0)\n",
            "Requirement already satisfied, skipping upgrade: pyparsing>=2.0.2 in /usr/local/envs/DeepPurpose/lib/python3.7/site-packages (from packaging==20.3->-r /content/DeepPurpose/condaenv.oxa9v81m.requirements.txt (line 12)) (2.4.6)\n",
            "Requirement already satisfied, skipping upgrade: certifi>=2017.4.17 in /usr/local/envs/DeepPurpose/lib/python3.7/site-packages (from requests==2.23.0->-r /content/DeepPurpose/condaenv.oxa9v81m.requirements.txt (line 14)) (2019.11.28)\n",
            "Collecting tenacity>=6.2.0\n",
            "  Downloading tenacity-8.0.1-py3-none-any.whl (24 kB)\n",
            "Requirement already satisfied, skipping upgrade: torch>=1.4 in /usr/local/envs/DeepPurpose/lib/python3.7/site-packages (from botorch>=0.2.2->ax-platform==0.1.11->-r /content/DeepPurpose/condaenv.oxa9v81m.requirements.txt (line 4)) (1.4.0)\n",
            "Requirement already satisfied, skipping upgrade: gpytorch>=1.0.0 in /usr/local/envs/DeepPurpose/lib/python3.7/site-packages (from botorch>=0.2.2->ax-platform==0.1.11->-r /content/DeepPurpose/condaenv.oxa9v81m.requirements.txt (line 4)) (1.1.1)\n",
            "Requirement already satisfied, skipping upgrade: python-dateutil>=2.6.1 in /usr/local/envs/DeepPurpose/lib/python3.7/site-packages (from pandas->ax-platform==0.1.11->-r /content/DeepPurpose/condaenv.oxa9v81m.requirements.txt (line 4)) (2.8.1)\n",
            "Requirement already satisfied, skipping upgrade: MarkupSafe>=0.23 in /usr/local/envs/DeepPurpose/lib/python3.7/site-packages (from jinja2->ax-platform==0.1.11->-r /content/DeepPurpose/condaenv.oxa9v81m.requirements.txt (line 4)) (1.1.1)\n",
            "Requirement already satisfied, skipping upgrade: joblib>=0.11 in /usr/local/envs/DeepPurpose/lib/python3.7/site-packages (from scikit-learn->ax-platform==0.1.11->-r /content/DeepPurpose/condaenv.oxa9v81m.requirements.txt (line 4)) (0.14.1)\n",
            "Requirement already satisfied, skipping upgrade: cycler>=0.10 in /usr/local/envs/DeepPurpose/lib/python3.7/site-packages (from matplotlib>=3.0->lifelines==0.24.3->-r /content/DeepPurpose/condaenv.oxa9v81m.requirements.txt (line 11)) (0.10.0)\n",
            "Requirement already satisfied, skipping upgrade: kiwisolver>=1.0.1 in /usr/local/envs/DeepPurpose/lib/python3.7/site-packages (from matplotlib>=3.0->lifelines==0.24.3->-r /content/DeepPurpose/condaenv.oxa9v81m.requirements.txt (line 11)) (1.1.0)\n",
            "Requirement already satisfied, skipping upgrade: setuptools in /usr/local/envs/DeepPurpose/lib/python3.7/site-packages (from kiwisolver>=1.0.1->matplotlib>=3.0->lifelines==0.24.3->-r /content/DeepPurpose/condaenv.oxa9v81m.requirements.txt (line 11)) (46.1.3.post20200325)\n",
            "Building wheels for collected packages: autograd, future, prettytable, wget\n",
            "  Building wheel for autograd (setup.py): started\n",
            "  Building wheel for autograd (setup.py): finished with status 'done'\n",
            "  Created wheel for autograd: filename=autograd-1.3-py3-none-any.whl size=47990 sha256=f6751cd515c9efc3dc1f553d8b340d8b984c461ae2c024baf72310f2b460f545\n",
            "  Stored in directory: /root/.cache/pip/wheels/ef/32/31/0e87227cd0ca1d99ad51fbe4b54c6fa02afccf7e483d045e04\n",
            "  Building wheel for future (setup.py): started\n",
            "  Building wheel for future (setup.py): finished with status 'done'\n",
            "  Created wheel for future: filename=future-0.18.2-py3-none-any.whl size=491058 sha256=520ebd038e0f73e53ce4c30ab716d35d08ee9e3add858dfdf679e2988e5b17bb\n",
            "  Stored in directory: /root/.cache/pip/wheels/56/b0/fe/4410d17b32f1f0c3cf54cdfb2bc04d7b4b8f4ae377e2229ba0\n",
            "  Building wheel for prettytable (setup.py): started\n",
            "  Building wheel for prettytable (setup.py): finished with status 'done'\n",
            "  Created wheel for prettytable: filename=prettytable-0.7.2-py3-none-any.whl size=13698 sha256=2c9773adac02f689816b41e2f4e4ed9924047572f1d159a10f3f30173d06b835\n",
            "  Stored in directory: /root/.cache/pip/wheels/8c/76/0b/eb9eb3da7e2335e3577e3f96a0ae9f74f206e26457bd1a2bc8\n",
            "  Building wheel for wget (setup.py): started\n",
            "  Building wheel for wget (setup.py): finished with status 'done'\n",
            "  Created wheel for wget: filename=wget-3.2-py3-none-any.whl size=9681 sha256=3d61ee9661878a281997c2a82a3bc0146e1fad0e4ec77af7d2bb9cbda2d661c6\n",
            "  Stored in directory: /root/.cache/pip/wheels/a1/b6/7c/0e63e34eb06634181c63adacca38b79ff8f35c37e3c13e3c02\n",
            "Successfully built autograd future prettytable wget\n",
            "Installing collected packages: alabaster, future, autograd, autograd-gamma, tenacity, plotly, ax-platform, babel, docutils, imagesize, lifelines, packaging, prettytable, urllib3, requests, snowballstemmer, subword-nmt, wget\n",
            "  Attempting uninstall: urllib3\n",
            "    Found existing installation: urllib3 1.25.9\n",
            "    Uninstalling urllib3-1.25.9:\n",
            "      Successfully uninstalled urllib3-1.25.9\n",
            "  Attempting uninstall: requests\n",
            "    Found existing installation: requests 2.24.0\n",
            "    Uninstalling requests-2.24.0:\n",
            "      Successfully uninstalled requests-2.24.0\n",
            "Successfully installed alabaster-0.7.12 autograd-1.3 autograd-gamma-0.4.2 ax-platform-0.1.11 babel-2.8.0 docutils-0.16 future-0.18.2 imagesize-1.2.0 lifelines-0.24.3 packaging-20.3 plotly-5.2.1 prettytable-0.7.2 requests-2.23.0 snowballstemmer-2.0.0 subword-nmt-0.3.7 tenacity-8.0.1 urllib3-1.25.8 wget-3.2\n",
            "\n",
            "#\n",
            "# To activate this environment, use\n",
            "#\n",
            "#     $ conda activate DeepPurpose\n",
            "#\n",
            "# To deactivate an active environment, use\n",
            "#\n",
            "#     $ conda deactivate\n",
            "\n"
          ],
          "name": "stdout"
        },
        {
          "output_type": "stream",
          "text": [
            "fatal: destination path 'DeepPurpose' already exists and is not an empty directory.\n",
            "\n",
            "\n",
            "==> WARNING: A newer version of conda exists. <==\n",
            "  current version: 4.8.2\n",
            "  latest version: 4.10.3\n",
            "\n",
            "Please update conda by running\n",
            "\n",
            "    $ conda update -n base -c defaults conda\n",
            "\n",
            "\n"
          ],
          "name": "stderr"
        }
      ]
    },
    {
      "cell_type": "markdown",
      "metadata": {
        "id": "GFa2hfxSxCPh"
      },
      "source": [
        "# Creating python file with required code in it inside DeepPurpose directory"
      ]
    },
    {
      "cell_type": "code",
      "metadata": {
        "id": "jmaU8wWxxClh"
      },
      "source": [
        "%%bash\n",
        "cd /content/DeepPurpose/\n",
        "touch trial.py\n",
        "###the code is copied from the framework :-\n",
        "#from DeepPurpose import CompoundPred as models\n",
        "#from DeepPurpose.utils import *\n",
        "#from DeepPurpose.dataset import *\n",
        "\n",
        " #load AID1706 Assay Data\n",
        "#X_drugs, _, y = load_AID1706_SARS_CoV_3CL()\n",
        "\n",
        "#drug_encoding = 'rdkit_2d_normalized'\n",
        "#train, val, test = data_process(X_drug = X_drugs, y = y, \n",
        "#\t\t\t    drug_encoding = drug_encoding,\n",
        "#\t\t\t    split_method='random', \n",
        "#\t\t\t    random_seed = 1)\n",
        "\n",
        "#config = generate_config(drug_encoding = drug_encoding, \n",
        "#                         cls_hidden_dims = [512], \n",
        "#                         train_epoch = 20, \n",
        "#                         LR = 0.001, \n",
        "#                         batch_size = 128,\n",
        "                        )\n",
        "#model = models.model_initialize(**config)\n",
        "#model.train(train, val, test)\n",
        "\n",
        "#X_repurpose, drug_name, drug_cid = load_broad_repurposing_hub(SAVE_PATH)\n",
        "\n",
        "#_ = models.repurpose(X_repurpose, model, drug_name) ###\n",
        "# and the (SAVE_PATH) is replaced by the path where we want to save data"
      ],
      "execution_count": null,
      "outputs": []
    },
    {
      "cell_type": "markdown",
      "metadata": {
        "id": "cSuPmuu8wUNN"
      },
      "source": [
        "#Running the python file "
      ]
    },
    {
      "cell_type": "code",
      "metadata": {
        "colab": {
          "base_uri": "https://localhost:8080/"
        },
        "id": "qsCU4GwjwUhs",
        "outputId": "5dc6a21b-4221-4705-b08b-0dd36ddc66d8"
      },
      "source": [
        "%%bash\n",
        "cd /content/DeepPurpose\n",
        "source activate DeepPurpose\n",
        "python trial.py\n",
        "\n"
      ],
      "execution_count": null,
      "outputs": [
        {
          "output_type": "stream",
          "text": [
            "Beginning Processing...\n",
            "Default binary threshold for the binding affinity scores is 15, recommended by the investigator\n",
            "Done!\n",
            "Drug Property Prediction Mode...\n",
            "in total: 26640 drugs\n",
            "encoding drug...\n",
            "unique drugs: 13764\n",
            "Done.\n",
            "Let's use CPU/s!\n",
            "--- Data Preparation ---\n",
            "--- Go for Training ---\n",
            "Training at Epoch 1 iteration 0 with loss 0.69238. Total time 0.0 hours\n",
            "Training at Epoch 1 iteration 100 with loss 0.52039. Total time 0.00111 hours\n",
            "Validation at Epoch 1 , AUROC: 0.94685 , AUPRC: 0.93693 , F1: 0.87457\n",
            "Training at Epoch 2 iteration 0 with loss 0.28680. Total time 0.00166 hours\n",
            "Training at Epoch 2 iteration 100 with loss 0.03468. Total time 0.00277 hours\n",
            "Validation at Epoch 2 , AUROC: 0.98706 , AUPRC: 0.97897 , F1: 0.96482\n",
            "Training at Epoch 3 iteration 0 with loss 0.09339. Total time 0.00361 hours\n",
            "Training at Epoch 3 iteration 100 with loss 0.16230. Total time 0.00472 hours\n",
            "Validation at Epoch 3 , AUROC: 0.98859 , AUPRC: 0.98203 , F1: 0.96409\n",
            "Training at Epoch 4 iteration 0 with loss 0.07992. Total time 0.00527 hours\n",
            "Training at Epoch 4 iteration 100 with loss 0.09425. Total time 0.00638 hours\n",
            "Validation at Epoch 4 , AUROC: 0.98503 , AUPRC: 0.97957 , F1: 0.95285\n",
            "Training at Epoch 5 iteration 0 with loss 0.13607. Total time 0.00694 hours\n",
            "Training at Epoch 5 iteration 100 with loss 0.04481. Total time 0.00833 hours\n",
            "Validation at Epoch 5 , AUROC: 0.99184 , AUPRC: 0.98644 , F1: 0.97679\n",
            "Training at Epoch 6 iteration 0 with loss 0.12399. Total time 0.00916 hours\n",
            "Training at Epoch 6 iteration 100 with loss 0.01645. Total time 0.01027 hours\n",
            "Validation at Epoch 6 , AUROC: 0.99320 , AUPRC: 0.99108 , F1: 0.97960\n",
            "Training at Epoch 7 iteration 0 with loss 0.03239. Total time 0.01111 hours\n",
            "Training at Epoch 7 iteration 100 with loss 0.07106. Total time 0.0125 hours\n",
            "Validation at Epoch 7 , AUROC: 0.99247 , AUPRC: 0.98816 , F1: 0.97835\n",
            "Training at Epoch 8 iteration 0 with loss 0.04288. Total time 0.01361 hours\n",
            "Training at Epoch 8 iteration 100 with loss 0.04146. Total time 0.01555 hours\n",
            "Validation at Epoch 8 , AUROC: 0.99587 , AUPRC: 0.99389 , F1: 0.98431\n",
            "Training at Epoch 9 iteration 0 with loss 0.00474. Total time 0.01638 hours\n",
            "Training at Epoch 9 iteration 100 with loss 0.00462. Total time 0.01777 hours\n",
            "Validation at Epoch 9 , AUROC: 0.99305 , AUPRC: 0.99119 , F1: 0.96738\n",
            "Training at Epoch 10 iteration 0 with loss 0.03047. Total time 0.01833 hours\n",
            "Training at Epoch 10 iteration 100 with loss 0.00265. Total time 0.01972 hours\n",
            "Validation at Epoch 10 , AUROC: 0.99464 , AUPRC: 0.99275 , F1: 0.97204\n",
            "Training at Epoch 11 iteration 0 with loss 0.06427. Total time 0.02055 hours\n",
            "Training at Epoch 11 iteration 100 with loss 0.01392. Total time 0.02194 hours\n",
            "Validation at Epoch 11 , AUROC: 0.99615 , AUPRC: 0.99391 , F1: 0.98534\n",
            "Training at Epoch 12 iteration 0 with loss 0.00385. Total time 0.0225 hours\n",
            "Training at Epoch 12 iteration 100 with loss 0.02882. Total time 0.02388 hours\n",
            "Validation at Epoch 12 , AUROC: 0.99476 , AUPRC: 0.99155 , F1: 0.98083\n",
            "Training at Epoch 13 iteration 0 with loss 0.00903. Total time 0.02472 hours\n",
            "Training at Epoch 13 iteration 100 with loss 0.04142. Total time 0.02611 hours\n",
            "Validation at Epoch 13 , AUROC: 0.99573 , AUPRC: 0.99421 , F1: 0.98539\n",
            "Training at Epoch 14 iteration 0 with loss 0.00707. Total time 0.02694 hours\n",
            "Training at Epoch 14 iteration 100 with loss 0.03987. Total time 0.02833 hours\n",
            "Validation at Epoch 14 , AUROC: 0.99393 , AUPRC: 0.99203 , F1: 0.97204\n",
            "Training at Epoch 15 iteration 0 with loss 0.02571. Total time 0.02916 hours\n",
            "Training at Epoch 15 iteration 100 with loss 0.04356. Total time 0.03055 hours\n",
            "Validation at Epoch 15 , AUROC: 0.99477 , AUPRC: 0.99193 , F1: 0.98403\n",
            "Training at Epoch 16 iteration 0 with loss 0.03156. Total time 0.03111 hours\n",
            "Training at Epoch 16 iteration 100 with loss 0.03067. Total time 0.0325 hours\n",
            "Validation at Epoch 16 , AUROC: 0.99467 , AUPRC: 0.99198 , F1: 0.98536\n",
            "Training at Epoch 17 iteration 0 with loss 0.04971. Total time 0.03333 hours\n",
            "Training at Epoch 17 iteration 100 with loss 0.01627. Total time 0.03472 hours\n",
            "Validation at Epoch 17 , AUROC: 0.99589 , AUPRC: 0.99331 , F1: 0.98608\n",
            "Training at Epoch 18 iteration 0 with loss 0.01781. Total time 0.03555 hours\n",
            "Training at Epoch 18 iteration 100 with loss 0.00782. Total time 0.03694 hours\n",
            "Validation at Epoch 18 , AUROC: 0.99530 , AUPRC: 0.99208 , F1: 0.99049\n",
            "Training at Epoch 19 iteration 0 with loss 0.00867. Total time 0.03777 hours\n",
            "Training at Epoch 19 iteration 100 with loss 0.04580. Total time 0.03916 hours\n",
            "Validation at Epoch 19 , AUROC: 0.99362 , AUPRC: 0.99007 , F1: 0.98006\n",
            "Training at Epoch 20 iteration 0 with loss 0.00458. Total time 0.03972 hours\n",
            "Training at Epoch 20 iteration 100 with loss 0.00107. Total time 0.04111 hours\n",
            "Validation at Epoch 20 , AUROC: 0.99593 , AUPRC: 0.99021 , F1: 0.98978\n",
            "--- Go for Testing ---\n",
            "Testing AUROC: 0.9962565276860121 , AUPRC: 0.9943401712308011 , F1: 0.9862351190476191\n",
            "--- Training Finished ---\n",
            "repurposing...\n",
            "Drug Property Prediction Mode...\n",
            "in total: 6111 drugs\n",
            "encoding drug...\n",
            "unique drugs: 6111\n",
            "Done.\n",
            "predicting...\n",
            "---------------\n",
            "Drug Repurposing Result\n",
            "+------+-------------------------------------------------------------------------------------------------------------------------------------------------------------------------------------------------------------------------------------------------------------------------------------------------------------------------------------------------------------------------------------------------------------------------------------------------------------------------------------------------------------------------------------------------------------------------------------------------------------+-------------+-------------+\n",
            "| Rank |                                                                                                                                                                                                                                                                                                  Drug Name                                                                                                                                                                                                                                                                                                  | Interaction | Probability |\n",
            "+------+-------------------------------------------------------------------------------------------------------------------------------------------------------------------------------------------------------------------------------------------------------------------------------------------------------------------------------------------------------------------------------------------------------------------------------------------------------------------------------------------------------------------------------------------------------------------------------------------------------------+-------------+-------------+\n",
            "|  1   |                                                                                                                                                                                                                                                                               1,3-Bis(2-hydroxy-5-(trifluoromethyl)phenyl)urea                                                                                                                                                                                                                                                                              |     YES     |     1.00    |\n",
            "|  2   |                                                                                                                                                                                                                                                                                                 Pamoic acid                                                                                                                                                                                                                                                                                                 |     YES     |     1.00    |\n",
            "|  3   |                                                                                                                                                                                                                                                                                                   Iniparib                                                                                                                                                                                                                                                                                                  |     YES     |     1.00    |\n",
            "|  4   |                                                                                                                                                                                                                                                                                                Erythrosin(E)                                                                                                                                                                                                                                                                                                |     YES     |     1.00    |\n",
            "|  5   |                                                                                                                                                                                                                                                                    4-[5-(4-Phenyl-8-propan-2-ylquinolin-2-yl)-1H-pyrrol-2-yl]benzoic acid                                                                                                                                                                                                                                                                   |     YES     |     1.00    |\n",
            "|  6   |                                                                                                                                                                                                                                                                                                  Clorsulon                                                                                                                                                                                                                                                                                                  |     YES     |     1.00    |\n",
            "|  7   |                                                                                                                                                                                                                                                                                                Brilanestrant                                                                                                                                                                                                                                                                                                |     YES     |     1.00    |\n",
            "|  8   |                                                                                                                                                                                                                                                                                                  Xenalipin                                                                                                                                                                                                                                                                                                  |     YES     |     1.00    |\n",
            "|  9   |                                                                                                                                                                                                                                                                                                 Dichlorophen                                                                                                                                                                                                                                                                                                |     YES     |     1.00    |\n",
            "|  10  |                                                                                                                                                                                                                                                              2,3,4,5-Tetrachloro-6-(3-hydroxy-2,4,5,7-tetraiodo-6-oxo-xanthen-9-yl)benzoic acid                                                                                                                                                                                                                                                             |     YES     |     1.00    |\n",
            "checkout ./result/repurposing.txt for the whole list\n"
          ],
          "name": "stdout"
        },
        {
          "output_type": "stream",
          "text": [
            "sys:1: DtypeWarning: Columns (0,7) have mixed types.Specify dtype option on import or set low_memory=False.\n",
            "/content/DeepPurpose/DeepPurpose/dataset.py:369: SettingWithCopyWarning: \n",
            "A value is trying to be set on a copy of a slice from a DataFrame\n",
            "\n",
            "See the caveats in the documentation: https://pandas.pydata.org/pandas-docs/stable/user_guide/indexing.html#returning-a-view-versus-a-copy\n",
            "  val['binary_label'][(val.PUBCHEM_ACTIVITY_SCORE >= threshold) & (val.PUBCHEM_ACTIVITY_SCORE <=100)] = 1\n"
          ],
          "name": "stderr"
        }
      ]
    },
    {
      "cell_type": "markdown",
      "metadata": {
        "id": "dHkd9ngg2qJH"
      },
      "source": [
        "#**The results are obtained in the /DeepPurpose/result folder and the data is present in the /DeepPurpose/data folder**\n",
        "\n"
      ]
    }
  ]
}